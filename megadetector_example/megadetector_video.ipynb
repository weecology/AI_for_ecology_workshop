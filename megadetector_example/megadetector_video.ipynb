{
 "cells": [
  {
   "cell_type": "markdown",
   "metadata": {},
   "source": [
    "# Import Required Libraries\n",
    "Import necessary libraries such as os, subprocess, json, matplotlib, pandas, cv2, and numpy."
   ]
  },
  {
   "cell_type": "code",
   "execution_count": 1,
   "metadata": {},
   "outputs": [],
   "source": [
    "# Import necessary libraries\n",
    "import os\n",
    "import subprocess\n",
    "import json\n",
    "import matplotlib.pyplot as plt\n",
    "import pandas as pd\n",
    "import cv2\n",
    "import numpy as np"
   ]
  },
  {
   "cell_type": "markdown",
   "metadata": {},
   "source": [
    "# Predict a simple camera-trap image"
   ]
  },
  {
   "cell_type": "code",
   "execution_count": null,
   "metadata": {},
   "outputs": [
    {
     "name": "stdout",
     "output_type": "stream",
     "text": [
      "Bypassing download of already-downloaded file md_v5a.0.0.pt\n",
      "Model v5a.0.0 available at /scratch/local/64386741/megadetector_models/md_v5a.0.0.pt\n",
      "Running detector on 1 images...\n",
      "Loading PT detector with compatibility mode classic\n"
     ]
    },
    {
     "name": "stderr",
     "output_type": "stream",
     "text": [
      "Fusing layers... \n",
      "Fusing layers... \n",
      "Model summary: 733 layers, 140054656 parameters, 0 gradients, 208.8 GFLOPs\n",
      "Model summary: 733 layers, 140054656 parameters, 0 gradients, 208.8 GFLOPs\n",
      "100%|██████████| 1/1 [00:00<00:00,  2.24it/s]\n"
     ]
    },
    {
     "name": "stdout",
     "output_type": "stream",
     "text": [
      "On average, for each image,\n",
      "- loading took 0.11 seconds, std dev is not available (<=1 image processed)\n",
      "- inference took 0.27 seconds, std dev is not available (<=1 image processed)\n",
      "Detection failed. Output image file not found.\n"
     ]
    },
    {
     "name": "stderr",
     "output_type": "stream",
     "text": [
      "[ WARN:0@785.819] global loadsave.cpp:268 findDecoder imread_('camera_traps/03240072 - Dasyprocta punctata_detections.jpg'): can't open/read file: check file path/integrity\n"
     ]
    },
    {
     "ename": "error",
     "evalue": "OpenCV(4.11.0) /io/opencv/modules/imgproc/src/color.cpp:199: error: (-215:Assertion failed) !_src.empty() in function 'cvtColor'\n",
     "output_type": "error",
     "traceback": [
      "\u001b[31m---------------------------------------------------------------------------\u001b[39m",
      "\u001b[31merror\u001b[39m                                     Traceback (most recent call last)",
      "\u001b[36mCell\u001b[39m\u001b[36m \u001b[39m\u001b[32mIn[13]\u001b[39m\u001b[32m, line 23\u001b[39m\n\u001b[32m     21\u001b[39m \u001b[38;5;66;03m# Show result\u001b[39;00m\n\u001b[32m     22\u001b[39m image = cv2.imread(output_image_file)\n\u001b[32m---> \u001b[39m\u001b[32m23\u001b[39m image = \u001b[43mcv2\u001b[49m\u001b[43m.\u001b[49m\u001b[43mcvtColor\u001b[49m\u001b[43m(\u001b[49m\u001b[43mimage\u001b[49m\u001b[43m,\u001b[49m\u001b[43m \u001b[49m\u001b[43mcv2\u001b[49m\u001b[43m.\u001b[49m\u001b[43mCOLOR_BGR2RGB\u001b[49m\u001b[43m)\u001b[49m\n\u001b[32m     24\u001b[39m plt.imshow(image)\n",
      "\u001b[31merror\u001b[39m: OpenCV(4.11.0) /io/opencv/modules/imgproc/src/color.cpp:199: error: (-215:Assertion failed) !_src.empty() in function 'cvtColor'\n"
     ]
    }
   ],
   "source": [
    "import os\n",
    "from IPython.display import Image, display\n",
    "\n",
    "# Run MegaDetector on a single image\n",
    "image_file = \"camera_traps/03240072 - Dasyprocta punctata.JPG\"  # Input image file\n",
    "output_image_file = \"camera_traps/03240072 - dasyprocta punctata_detections.jpg\"  # Output image file with detections\n",
    "model_name = \"MDV5A\"  # Specify the MegaDetector model name\n",
    "threshold = 0.1  # Detection threshold\n",
    "\n",
    "# Run the MegaDetector command\n",
    "command = f\"python -m megadetector.detection.run_detector {model_name} --image_file \\\"{image_file}\\\" --threshold {threshold}\"\n",
    "os.system(command)\n",
    "\n",
    "# Display the detection result\n",
    "if os.path.exists(output_image_file):\n",
    "    print(f\"Detection complete. Result saved to {output_image_file}\")\n",
    "    display(Image(filename=output_image_file))\n",
    "else:\n",
    "    print(\"Detection failed. Output image file not found.\")\n",
    "\n",
    "# Show result\n",
    "image = cv2.imread(output_image_file)\n",
    "image = cv2.cvtColor(image, cv2.COLOR_BGR2RGB)\n",
    "plt.imshow(image)"
   ]
  },
  {
   "cell_type": "markdown",
   "metadata": {},
   "source": [
    "# Define Helper Functions\n",
    "Define reusable functions for downloading files from Dropbox and processing videos with MegaDetector."
   ]
  },
  {
   "cell_type": "code",
   "execution_count": 2,
   "metadata": {},
   "outputs": [],
   "source": [
    "# Define a function to download a file from Dropbox\n",
    "def download_file_from_dropbox(dropbox_url, output_path):\n",
    "    \"\"\"Download a file from Dropbox using curl.\"\"\"\n",
    "    # Check if the file already exists\n",
    "    if os.path.exists(output_path):\n",
    "        print(f\"File {output_path} already exists. Skipping download.\")\n",
    "        return\n",
    "    # Use curl to download the file\n",
    "    command = f\"curl -L -o {output_path} {dropbox_url}\"\n",
    "    subprocess.run(command, shell=True, check=True)\n",
    "\n",
    "# Define a function to process a video with MegaDetector\n",
    "def process_video_with_megadetector(model_name, video_path, output_json):\n",
    "    \"\"\"Process a video using MegaDetector via command line.\"\"\"\n",
    "    # Construct the command to run MegaDetector\n",
    "    command = f\"python -m megadetector.detection.process_video {model_name} {video_path} --output_json_file {output_json} --frame_sample 1000\"\n",
    "    subprocess.run(command, shell=True, check=True)"
   ]
  },
  {
   "cell_type": "markdown",
   "metadata": {},
   "source": [
    "# Download File from Dropbox\n",
    "Use the `download_file_from_dropbox` function to download a video file from a given Dropbox URL."
   ]
  },
  {
   "cell_type": "code",
   "execution_count": 3,
   "metadata": {},
   "outputs": [],
   "source": [
    "# Use the `download_file_from_dropbox` function to download a video file\n",
    "dropbox_url = \"https://www.dropbox.com/scl/fi/6l7qv1w2w6nnalx2c7xw8/2024_0906_185436_001.MP4?rlkey=hpiot4986a7ffeizdz86kusyw&dl=1\"\n",
    "output_path = \"downloaded_file.mp4\"\n",
    "\n",
    "# Call the function to download the file\n",
    "download_file_from_dropbox(dropbox_url, output_path)"
   ]
  },
  {
   "cell_type": "markdown",
   "metadata": {},
   "source": [
    "# Process Video with MegaDetector\n",
    "Use the `process_video_with_megadetector` function to process the downloaded video and generate a JSON output."
   ]
  },
  {
   "cell_type": "code",
   "execution_count": 5,
   "metadata": {},
   "outputs": [
    {
     "name": "stdout",
     "output_type": "stream",
     "text": [
      "Bypassing download of already-downloaded file md_v5a.0.0.pt\n",
      "Model v5a.0.0 available at /scratch/local/64386741/megadetector_models/md_v5a.0.0.pt\n",
      "Loading PT detector with compatibility mode classic\n"
     ]
    },
    {
     "name": "stderr",
     "output_type": "stream",
     "text": [
      "Fusing layers... \n",
      "Fusing layers... \n",
      "Model summary: 733 layers, 140054656 parameters, 0 gradients, 208.8 GFLOPs\n",
      "Model summary: 733 layers, 140054656 parameters, 0 gradients, 208.8 GFLOPs\n"
     ]
    },
    {
     "name": "stdout",
     "output_type": "stream",
     "text": [
      "Output file saved at output.json\n",
      "Processing complete. Results saved to output.json\n"
     ]
    }
   ],
   "source": [
    "# Process the downloaded video with MegaDetector\n",
    "model_name = \"MDV5A\"  # Specify the MegaDetector model name\n",
    "video_path = output_path  # Path to the downloaded video\n",
    "output_json = \"output.json\"  # Path to save the JSON output\n",
    "\n",
    "# Call the function to process the video\n",
    "process_video_with_megadetector(model_name, video_path, output_json)\n",
    "\n",
    "# Confirm the JSON output file is created\n",
    "if os.path.exists(output_json):\n",
    "    print(f\"Processing complete. Results saved to {output_json}\")\n",
    "else:\n",
    "    print(\"Processing failed. JSON output file not found.\")"
   ]
  },
  {
   "cell_type": "markdown",
   "metadata": {},
   "source": [
    "# Extract and Plot Confidence Scores\n",
    "Analyze the JSON output to extract frame numbers and confidence scores, then plot them using matplotlib."
   ]
  },
  {
   "cell_type": "code",
   "execution_count": null,
   "metadata": {},
   "outputs": [],
   "source": [
    "# Analyze the JSON output to extract frame numbers and confidence scores, then plot them using matplotlib\n",
    "# Load the JSON data from the output file\n",
    "with open(output_json, 'r') as file:\n",
    "    data = json.load(file)\n",
    "\n",
    "# Initialize lists to store frame numbers and confidence scores\n",
    "frame_numbers = []\n",
    "conf_scores = []\n",
    "\n",
    "# Extract frame numbers and confidence scores from the JSON data\n",
    "for frame in data[\"images\"]:  # Assuming `data[\"images\"]` contains frame objects\n",
    "    frame_number = frame[\"frame_number\"]\n",
    "    for detection in frame[\"detections\"]:\n",
    "        frame_numbers.append(frame_number)\n",
    "        conf_scores.append(detection[\"conf\"])\n",
    "\n",
    "# Plot the confidence scores against frame numbers\n",
    "plt.figure(figsize=(8, 6))\n",
    "plt.scatter(frame_numbers, conf_scores, label=\"Confidence Scores\", alpha=0.7)\n",
    "plt.title(\"Frame Number vs Confidence Scores\")\n",
    "plt.xlabel(\"Frame Number\")\n",
    "plt.ylabel(\"Confidence Score\")\n",
    "plt.legend()\n",
    "plt.grid(True)\n",
    "plt.show()"
   ]
  },
  {
   "cell_type": "markdown",
   "metadata": {},
   "source": [
    "# Save Frame with Highest Confidence\n",
    "Identify the frame with the highest confidence score, extract it from the video, and save it as an image file."
   ]
  },
  {
   "cell_type": "code",
   "execution_count": null,
   "metadata": {},
   "outputs": [],
   "source": [
    "# Identify the frame with the highest confidence score and save it as an image file\n",
    "# Create a pandas DataFrame to organize frame numbers and confidence scores\n",
    "df = pd.DataFrame({\n",
    "    'Frame Number': frame_numbers,\n",
    "    'Confidence Score': conf_scores\n",
    "})\n",
    "\n",
    "# Find the highest confidence score and its corresponding frame number\n",
    "highest_score = df['Confidence Score'].max()\n",
    "highest_score_row = df[df['Confidence Score'] == highest_score]\n",
    "highest_score_frame = highest_score_row['Frame Number'].values[0]\n",
    "\n",
    "print(f\"Highest confidence score: {highest_score}\")\n",
    "print(f\"Frame number with highest confidence: {highest_score_frame}\")\n",
    "\n",
    "# Open the video file using OpenCV\n",
    "cap = cv2.VideoCapture(video_path)\n",
    "\n",
    "# Check if the video file is successfully opened\n",
    "if not cap.isOpened():\n",
    "    raise IOError(f\"Cannot open video file: {video_path}\")\n",
    "\n",
    "# Set the video to the frame with the highest confidence score\n",
    "cap.set(cv2.CAP_PROP_POS_FRAMES, highest_score_frame)\n",
    "\n",
    "# Read the frame\n",
    "ret, frame = cap.read()\n",
    "if not ret:\n",
    "    raise ValueError(f\"Could not read frame {highest_score_frame} from video.\")\n",
    "\n",
    "# Save the frame as an image file\n",
    "output_image_path = f\"frame_{highest_score_frame}.jpg\"\n",
    "cv2.imwrite(output_image_path, frame)\n",
    "\n",
    "# Release the video capture object\n",
    "cap.release()\n",
    "\n",
    "print(f\"Frame {highest_score_frame} saved to {output_image_path}\")"
   ]
  }
 ],
 "metadata": {
  "kernelspec": {
   "display_name": "megadetector",
   "language": "python",
   "name": "python3"
  },
  "language_info": {
   "codemirror_mode": {
    "name": "ipython",
    "version": 3
   },
   "file_extension": ".py",
   "mimetype": "text/x-python",
   "name": "python",
   "nbconvert_exporter": "python",
   "pygments_lexer": "ipython3",
   "version": "3.11.11"
  }
 },
 "nbformat": 4,
 "nbformat_minor": 2
}
