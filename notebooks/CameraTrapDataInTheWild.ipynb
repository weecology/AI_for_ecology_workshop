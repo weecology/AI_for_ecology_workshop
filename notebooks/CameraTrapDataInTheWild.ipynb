{
 "cells": [
  {
   "cell_type": "markdown",
   "metadata": {},
   "source": [
    "# Data in Wild! Camera Traps\n"
   ]
  },
  {
   "cell_type": "code",
   "execution_count": 1,
   "metadata": {},
   "outputs": [
    {
     "name": "stdout",
     "output_type": "stream",
     "text": [
      "Created dataframe with shape: (64974, 3)\n",
      "\n",
      "First few rows:\n",
      "           filename                                              image  \\\n",
      "0  A01/01100085.JPG  https://lilablobssc.blob.core.windows.net/orin...   \n",
      "1  A01/01100087.JPG  https://lilablobssc.blob.core.windows.net/orin...   \n",
      "2  A01/01140091.JPG  https://lilablobssc.blob.core.windows.net/orin...   \n",
      "3  A01/01140092.JPG  https://lilablobssc.blob.core.windows.net/orin...   \n",
      "4  A01/01140093.JPG  https://lilablobssc.blob.core.windows.net/orin...   \n",
      "\n",
      "                 species  \n",
      "0  dasyprocta fuliginosa  \n",
      "1  dasyprocta fuliginosa  \n",
      "2          pecari tajacu  \n",
      "3          pecari tajacu  \n",
      "4          pecari tajacu  \n"
     ]
    },
    {
     "data": {
      "text/plain": [
       "<Axes: xlabel='species'>"
      ]
     },
     "execution_count": 1,
     "metadata": {},
     "output_type": "execute_result"
    },
    {
     "data": {
      "image/png": "[encoded data removed]",
      "text/plain": [
       "<Figure size 640x480 with 1 Axes>"
      ]
     },
     "metadata": {},
     "output_type": "display_data"
    }
   ],
   "source": [
    "import pandas as pd\n",
    "from datasets import load_dataset\n",
    "\n",
    "# Load dataset\n",
    "dataset = load_dataset(\"society-ethics/lila_camera_traps\", \"Orinoquia Camera Traps\", split=\"train\")\n",
    "taxonomy = dataset.features[\"annotations\"].feature[\"taxonomy\"]\n",
    "\n",
    "# Create empty lists to store data\n",
    "filenames = []\n",
    "species = []\n",
    "images = []\n",
    "\n",
    "# Extract filename and species for non-empty annotations\n",
    "for example in dataset:\n",
    "    species_id = example[\"annotations\"][\"taxonomy\"][0][\"species\"]\n",
    "    if species_id is not None:\n",
    "        images.append(example[\"image\"])\n",
    "        filenames.append(example[\"file_name\"])\n",
    "        species_name = taxonomy[\"species\"].int2str(species_id)\n",
    "        species.append(species_name)\n",
    "\n",
    "# Create dataframe\n",
    "df = pd.DataFrame({\n",
    "    'filename': filenames,\n",
    "    'image': images,\n",
    "    'species': species\n",
    "})\n",
    "\n",
    "print(\"Created dataframe with shape:\", df.shape)\n",
    "print(\"\\nFirst few rows:\")\n",
    "print(df.head())\n",
    "\n",
    "# select the 20 images from the top 10 species\n",
    "df = df[df['species'].isin(df['species'].value_counts().head(10).index)]\n",
    "df = df.groupby('species').sample(20)\n",
    "\n",
    "# Plot\n",
    "df.groupby('species').size().plot(kind='bar')\n"
   ]
  },
  {
   "cell_type": "code",
   "execution_count": 4,
   "metadata": {},
   "outputs": [
    {
     "name": "stderr",
     "output_type": "stream",
     "text": [
      "Downloading images: 100%|██████████| 200/200 [02:46<00:00,  1.20it/s]\n"
     ]
    }
   ],
   "source": [
    "from PIL import Image, ImageDraw\n",
    "import requests\n",
    "from io import BytesIO\n",
    "import os\n",
    "from tqdm import tqdm\n",
    "\n",
    "def download_images(df, output_dir=\"images\"):\n",
    "    os.makedirs(output_dir, exist_ok=True)\n",
    "    \n",
    "    for _, row in tqdm(df.iterrows(), total=len(df), desc=\"Downloading images\"):\n",
    "        filename = row['filename']\n",
    "        output_path = os.path.join(output_dir, filename)\n",
    "        # Recursively make directories\n",
    "        os.makedirs(os.path.dirname(output_path), exist_ok=True)\n",
    "        if os.path.exists(output_path):\n",
    "            continue\n",
    "            \n",
    "        try:\n",
    "            response = requests.get(row['image'].replace(\"https://lilablobssc.blob.core.windows.net\",\"https://lilawildlife.blob.core.windows.net/lila-wildlife\"))\n",
    "            if response.status_code == 200:\n",
    "                img = Image.open(BytesIO(response.content))\n",
    "                img.save(output_path)\n",
    "            else:\n",
    "                print(f\"Failed to download {filename}: Status code {response.status_code}\")\n",
    "        except Exception as e:\n",
    "            print(f\"Error downloading {filename}: {e}\")\n",
    "\n",
    "download_images(df)"
   ]
  },
  {
   "cell_type": "markdown",
   "metadata": {},
   "source": [
    "The goal of this notebook is to download a sample dataset from lila.science, organize and prepare it for a simple machine learning model"
   ]
  },
  {
   "cell_type": "markdown",
   "metadata": {},
   "source": [
    "## Key Terminology\n",
    "\n",
    "In the pytorch universe there are three key elements, datasets, dataloaders and models.\n",
    "\n",
    "Torch datasets are abstractions that handle data loading and preprocessing. They are typically subclasses of `torch.utils.data.Dataset` and define two main methods: `__len__` (returns the size of the dataset) and `__getitem__` (retrieves a data sample).\n",
    "\n",
    "Dataloaders, implemented via `torch.utils.data.DataLoader`, provide an iterable over a dataset, enabling efficient batching, shuffling, and parallel data loading.\n",
    "\n",
    "Models in PyTorch are defined as subclasses of `torch.nn.Module`. They encapsulate layers and define the forward pass of the network.\n",
    "\n",
    "PyTorch Lightning modules integrate these components by organizing the training, validation, and testing logic. A `LightningModule` defines methods like `training_step`, `validation_step`, and `test_step`, and connects datasets, dataloaders, and models into a cohesive workflow. This abstraction simplifies training loops and enables seamless integration with hardware accelerators."
   ]
  },
  {
   "cell_type": "code",
   "execution_count": 6,
   "metadata": {},
   "outputs": [
    {
     "name": "stdout",
     "output_type": "stream",
     "text": [
      "valid_classes:  Index(['bos taurus', 'cuniculus paca', 'dasyprocta fuliginosa', 'mitu salvini',\n",
      "       'nasua nasua', 'pecari tajacu', 'penelope jacquacu',\n",
      "       'tamandua tetradactyla', 'tapirus terrestris', 'tayassu pecari'],\n",
      "      dtype='object', name='species')\n",
      "Number of train images:  150\n",
      "Number of test images:  50\n"
     ]
    }
   ],
   "source": [
    "from sklearn.model_selection import train_test_split\n",
    "\n",
    "# Train test split\n",
    "# Filter out classes with less than 5 images\n",
    "class_counts = df[\"species\"].value_counts()\n",
    "valid_classes = class_counts[class_counts >= 5].index\n",
    "filtered_annotations = df[df[\"species\"].isin(valid_classes)]\n",
    "\n",
    "# Split images into train and test sets\n",
    "train_images = []\n",
    "test_images = []\n",
    "\n",
    "for common_name in valid_classes:\n",
    "    class_images = filtered_annotations[filtered_annotations[\"species\"] == common_name][\"filename\"].tolist()\n",
    "    if len(class_images) > 5:\n",
    "        train, test = train_test_split(class_images, test_size=5, random_state=42)\n",
    "        train_images.extend(train)\n",
    "        test_images.extend(test)\n",
    "\n",
    "print(\"valid_classes: \", valid_classes)\n",
    "print(\"Number of train images: \", len(train_images))\n",
    "print(\"Number of test images: \", len(test_images))"
   ]
  },
  {
   "cell_type": "code",
   "execution_count": 23,
   "metadata": {},
   "outputs": [],
   "source": [
    "import torch\n",
    "from torch.utils.data import Dataset\n",
    "from PIL import Image\n",
    "import numpy as np\n",
    "\n",
    "class WildlifeDataset(Dataset):\n",
    "    def __init__(self, image_paths, annotations, transform=None):\n",
    "        self.image_paths = image_paths\n",
    "        self.annotations = annotations\n",
    "        self.transform = transform\n",
    "\n",
    "    def __len__(self):\n",
    "        return len(self.image_paths)\n",
    "\n",
    "    def __getitem__(self, idx):\n",
    "        img_path = os.path.join(\"images\", self.image_paths[idx])\n",
    "        label = self.annotations.loc[self.annotations['filename'] == self.image_paths[idx], 'species'].values[0]\n",
    "        \n",
    "        # Load the image\n",
    "        image = Image.open(img_path).convert(\"RGB\")\n",
    "\n",
    "        # Numpy array, channels first\n",
    "        image = np.array(image).transpose(2, 0, 1).astype(np.float32)\n",
    "        \n",
    "        # Apply transformations if provided\n",
    "        if self.transform:\n",
    "            image = self.transform(image)\n",
    "        \n",
    "        return image, label\n",
    "\n",
    "# Example usage\n",
    "train_dataset = WildlifeDataset(train_images, filtered_annotations)\n",
    "test_dataset = WildlifeDataset(test_images, filtered_annotations)"
   ]
  },
  {
   "cell_type": "code",
   "execution_count": 24,
   "metadata": {},
   "outputs": [
    {
     "name": "stdout",
     "output_type": "stream",
     "text": [
      "Batch size: 32\n"
     ]
    }
   ],
   "source": [
    "from torch.utils.data import DataLoader\n",
    "\n",
    "# Dataloader\n",
    "\n",
    "# Create DataLoaders for train and test datasets\n",
    "train_loader = DataLoader(train_dataset, batch_size=32, shuffle=True)\n",
    "test_loader = DataLoader(test_dataset, batch_size=32, shuffle=False)\n",
    "\n",
    "# Example: Iterate through the train_loader\n",
    "for images, labels in train_loader:\n",
    "    print(f\"Batch size: {len(images)}\")\n",
    "    break"
   ]
  },
  {
   "cell_type": "markdown",
   "metadata": {},
   "source": [
    "## Terminología Clave de un Módulo de PyTorch Lightning\n",
    "\n",
    "### Terminología Clave\n",
    "1. **Datasets**: Abstracciones que manejan la carga y preprocesamiento de datos. Son subclases de `torch.utils.data.Dataset` y definen dos métodos principales: `__len__` (devuelve el tamaño del conjunto de datos) y `__getitem__` (recupera una muestra de datos).\n",
    "\n",
    "2. **Dataloaders**: Implementados mediante `torch.utils.data.DataLoader`, proporcionan un iterable sobre un conjunto de datos, permitiendo un batching eficiente, mezcla de datos y carga paralela.\n",
    "\n",
    "3. **Models**: Definidos como subclases de `torch.nn.Module`. Encapsulan capas y definen el paso hacia adelante (forward pass) de la red.\n",
    "\n",
    "4. **LightningModule**: Un módulo de PyTorch Lightning que organiza la lógica de entrenamiento, validación y prueba. Define métodos como `training_step`, `validation_step` y `test_step`, conectando datasets, dataloaders y modelos en un flujo de trabajo cohesivo. Esta abstracción simplifica los bucles de entrenamiento y permite una integración fluida con aceleradores de hardware.\n",
    "\n"
   ]
  },
  {
   "cell_type": "code",
   "execution_count": null,
   "metadata": {},
   "outputs": [
    {
     "name": "stderr",
     "output_type": "stream",
     "text": [
      "/Users/benweinstein/miniconda3/envs/megadetector/lib/python3.11/site-packages/torchvision/models/_utils.py:208: UserWarning: The parameter 'pretrained' is deprecated since 0.13 and may be removed in the future, please use 'weights' instead.\n",
      "  warnings.warn(\n",
      "/Users/benweinstein/miniconda3/envs/megadetector/lib/python3.11/site-packages/torchvision/models/_utils.py:223: UserWarning: Arguments other than a weight enum or `None` for 'weights' are deprecated since 0.13 and may be removed in the future. The current behavior is equivalent to passing `weights=ResNet18_Weights.IMAGENET1K_V1`. You can also use `weights=ResNet18_Weights.DEFAULT` to get the most up-to-date weights.\n",
      "  warnings.warn(msg)\n",
      "You are using the plain ModelCheckpoint callback. Consider using LitModelCheckpoint which with seamless uploading to Model registry.\n",
      "GPU available: False, used: False\n",
      "TPU available: False, using: 0 TPU cores\n",
      "HPU available: False, using: 0 HPUs\n",
      "\n",
      "  | Name      | Type             | Params | Mode \n",
      "-------------------------------------------------------\n",
      "0 | model     | ResNet           | 11.2 M | train\n",
      "1 | criterion | CrossEntropyLoss | 0      | train\n",
      "-------------------------------------------------------\n",
      "11.2 M    Trainable params\n",
      "0         Non-trainable params\n",
      "11.2 M    Total params\n",
      "44.727    Total estimated model params size (MB)\n",
      "69        Modules in train mode\n",
      "0         Modules in eval mode\n",
      "/Users/benweinstein/miniconda3/envs/megadetector/lib/python3.11/site-packages/pytorch_lightning/trainer/connectors/data_connector.py:425: The 'train_dataloader' does not have many workers which may be a bottleneck. Consider increasing the value of the `num_workers` argument` to `num_workers=11` in the `DataLoader` to improve performance.\n",
      "/Users/benweinstein/miniconda3/envs/megadetector/lib/python3.11/site-packages/pytorch_lightning/loops/fit_loop.py:310: The number of training batches (5) is smaller than the logging interval Trainer(log_every_n_steps=50). Set a lower value for log_every_n_steps if you want to see logs for the training epoch.\n"
     ]
    },
    {
     "data": {
      "application/vnd.jupyter.widget-view+json": {
       "model_id": "dc4c428217574f3babe2e86da29a4b39",
       "version_major": 2,
       "version_minor": 0
      },
      "text/plain": [
       "Training: |          | 0/? [00:00<?, ?it/s]"
      ]
     },
     "metadata": {},
     "output_type": "display_data"
    }
   ],
   "source": [
    "import pytorch_lightning as pl\n",
    "from torch import nn\n",
    "\n",
    "import torchvision.models as models\n",
    "import torch.optim as optim\n",
    "\n",
    "class ResNetClassifier(pl.LightningModule):\n",
    "    def __init__(self, num_classes):\n",
    "        super(ResNetClassifier, self).__init__()\n",
    "        # Load a pre-trained ResNet model\n",
    "        self.model = models.resnet18(pretrained=True)\n",
    "        # Replace the final fully connected layer to match the number of classes\n",
    "        self.model.fc = nn.Linear(self.model.fc.in_features, num_classes)\n",
    "        self.criterion = nn.CrossEntropyLoss()\n",
    "\n",
    "    def forward(self, x):\n",
    "        return self.model(x)\n",
    "\n",
    "    def training_step(self, batch, batch_idx):\n",
    "        images, labels = batch\n",
    "        outputs = self(images)\n",
    "        loss = self.criterion(outputs, labels)\n",
    "        self.log(\"train_loss\", loss)\n",
    "        return loss\n",
    "\n",
    "    def configure_optimizers(self):\n",
    "        optimizer = optim.Adam(self.parameters(), lr=1e-3)\n",
    "        return optimizer\n",
    "\n",
    "# Instantiate the model\n",
    "num_classes = len(valid_classes)\n",
    "model = ResNetClassifier(num_classes)\n",
    "\n",
    "# Create a PyTorch Lightning trainer\n",
    "trainer = pl.Trainer(max_epochs=1)\n",
    "\n",
    "# Fit the model\n",
    "trainer.fit(model, train_loader)"
   ]
  }
 ],
 "metadata": {
  "kernelspec": {
   "display_name": "megadetector",
   "language": "python",
   "name": "python3"
  },
  "language_info": {
   "codemirror_mode": {
    "name": "ipython",
    "version": 3
   },
   "file_extension": ".py",
   "mimetype": "text/x-python",
   "name": "python",
   "nbconvert_exporter": "python",
   "pygments_lexer": "ipython3",
   "version": "3.11.11"
  }
 },
 "nbformat": 4,
 "nbformat_minor": 2
}
