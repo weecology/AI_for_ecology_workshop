{
 "cells": [
  {
   "cell_type": "markdown",
   "id": "d764c6e2",
   "metadata": {
    "papermill": {
     "duration": 0.002175,
     "end_time": "2025-03-05T10:26:06.003695",
     "exception": false,
     "start_time": "2025-03-05T10:26:06.001520",
     "status": "completed"
    },
    "tags": []
   },
   "source": [
    "## BirdCLEF+ 2025 Sample Submission\n",
    "\n",
    "This is a quick run through the submission process. Test data is hidden, so we can't access it before submission. In order to make a valid submission, here's what we'll do:\n",
    "\n",
    "1. Make sure we predict for all 206 classes in the train data\n",
    "2. Load a list of test soundscapes\n",
    "3. Process each soundscape\n",
    "     - load audio\n",
    "     - split into 5-second chunks\n",
    "     - run model inference for each chunk\n",
    "     - save predictions\n",
    "4. Make submission csv file\n",
    "5. Submit\n",
    "\n",
    "Ok, so here we go."
   ]
  },
  {
   "cell_type": "code",
   "execution_count": 1,
   "id": "d8b0bca0",
   "metadata": {
    "_cell_guid": "b1076dfc-b9ad-4769-8c92-a6c4dae69d19",
    "_uuid": "8f2839f25d086af736a60e9eeb907d3b93b6e0e5",
    "execution": {
     "iopub.execute_input": "2025-03-05T10:26:06.009194Z",
     "iopub.status.busy": "2025-03-05T10:26:06.008672Z",
     "iopub.status.idle": "2025-03-05T10:26:07.202251Z",
     "shell.execute_reply": "2025-03-05T10:26:07.201039Z"
    },
    "papermill": {
     "duration": 1.198463,
     "end_time": "2025-03-05T10:26:07.204151",
     "exception": false,
     "start_time": "2025-03-05T10:26:06.005688",
     "status": "completed"
    },
    "tags": []
   },
   "outputs": [
    {
     "data": {
      "text/html": [
       "<div>\n",
       "<style scoped>\n",
       "    .dataframe tbody tr th:only-of-type {\n",
       "        vertical-align: middle;\n",
       "    }\n",
       "\n",
       "    .dataframe tbody tr th {\n",
       "        vertical-align: top;\n",
       "    }\n",
       "\n",
       "    .dataframe thead th {\n",
       "        text-align: right;\n",
       "    }\n",
       "</style>\n",
       "<table border=\"1\" class=\"dataframe\">\n",
       "  <thead>\n",
       "    <tr style=\"text-align: right;\">\n",
       "      <th></th>\n",
       "      <th>row_id</th>\n",
       "      <th>1139490</th>\n",
       "      <th>1192948</th>\n",
       "      <th>1194042</th>\n",
       "      <th>126247</th>\n",
       "      <th>1346504</th>\n",
       "      <th>134933</th>\n",
       "      <th>135045</th>\n",
       "      <th>1462711</th>\n",
       "      <th>1462737</th>\n",
       "      <th>...</th>\n",
       "      <th>yebfly1</th>\n",
       "      <th>yebsee1</th>\n",
       "      <th>yecspi2</th>\n",
       "      <th>yectyr1</th>\n",
       "      <th>yehbla2</th>\n",
       "      <th>yehcar1</th>\n",
       "      <th>yelori1</th>\n",
       "      <th>yeofly1</th>\n",
       "      <th>yercac1</th>\n",
       "      <th>ywcpar</th>\n",
       "    </tr>\n",
       "  </thead>\n",
       "  <tbody>\n",
       "  </tbody>\n",
       "</table>\n",
       "<p>0 rows × 207 columns</p>\n",
       "</div>"
      ],
      "text/plain": [
       "Empty DataFrame\n",
       "Columns: [row_id, 1139490, 1192948, 1194042, 126247, 1346504, 134933, 135045, 1462711, 1462737, 1564122, 21038, 21116, 21211, 22333, 22973, 22976, 24272, 24292, 24322, 41663, 41778, 41970, 42007, 42087, 42113, 46010, 47067, 476537, 476538, 48124, 50186, 517119, 523060, 528041, 52884, 548639, 555086, 555142, 566513, 64862, 65336, 65344, 65349, 65373, 65419, 65448, 65547, 65962, 66016, 66531, 66578, 66893, 67082, 67252, 714022, 715170, 787625, 81930, 868458, 963335, amakin1, amekes, ampkin1, anhing, babwar, bafibi1, banana, baymac, bbwduc, bicwre1, bkcdon, bkmtou1, blbgra1, blbwre1, blcant4, blchaw1, blcjay1, blctit1, blhpar1, blkvul, bobfly1, bobher1, brtpar1, bubcur1, bubwre1, bucmot3, bugtan, butsal1, cargra1, cattyr, chbant1, chfmac1, cinbec1, cocher1, cocwoo1, colara1, colcha1, compau, compot1, ...]\n",
       "Index: []\n",
       "\n",
       "[0 rows x 207 columns]"
      ]
     },
     "execution_count": 1,
     "metadata": {},
     "output_type": "execute_result"
    }
   ],
   "source": [
    "import os\n",
    "import librosa\n",
    "import numpy as np\n",
    "import pandas as pd\n",
    "\n",
    "# Set seed\n",
    "np.random.seed(42)\n",
    "\n",
    "# Class labels from train audio\n",
    "class_labels = sorted(os.listdir('/kaggle/input/birdclef-2025/train_audio/'))\n",
    "\n",
    "# List of test soundscapes (only visible during submission)\n",
    "test_soundscape_path = '/kaggle/input/birdclef-2025/test_soundscapes/'\n",
    "test_soundscapes = [os.path.join(test_soundscape_path, afile) for afile in sorted(os.listdir(test_soundscape_path)) if afile.endswith('.ogg')]\n",
    "\n",
    "# Open each soundscape and make predictions for 5-second segments\n",
    "# Use pandas df with 'row_id' plus class labels as columns\n",
    "predictions = pd.DataFrame(columns=['row_id'] + class_labels)\n",
    "for soundscape in test_soundscapes:\n",
    "\n",
    "    # Load audio\n",
    "    sig, rate = librosa.load(path=soundscape, sr=None)\n",
    "\n",
    "    # Split into 5-second chunks\n",
    "    chunks = []\n",
    "    for i in range(0, len(sig), rate*5):\n",
    "        chunk = sig[i:i+rate*5]\n",
    "        chunks.append(chunk)\n",
    "        \n",
    "    # Make predictions for each chunk\n",
    "    for i, chunk in enumerate(chunks):\n",
    "        \n",
    "        # Get row id  (soundscape id + end time of 5s chunk)      \n",
    "        row_id = os.path.basename(soundscape).split('.')[0] + f'_{i * 5 + 5}'\n",
    "        \n",
    "        # Make prediction (let's use random scores for now)\n",
    "        # scores = model.predict...\n",
    "        scores = np.random.rand(len(class_labels))\n",
    "        \n",
    "        # Append to predictions as new row\n",
    "        new_row = pd.DataFrame([[row_id] + list(scores)], columns=['row_id'] + class_labels)\n",
    "        predictions = pd.concat([predictions, new_row], axis=0, ignore_index=True)\n",
    "        \n",
    "# Save prediction as csv\n",
    "predictions.to_csv('submission.csv', index=False)\n",
    "predictions.head()\n",
    "        "
   ]
  },
  {
   "cell_type": "markdown",
   "id": "f9cf3f6f",
   "metadata": {
    "papermill": {
     "duration": 0.001616,
     "end_time": "2025-03-05T10:26:07.207851",
     "exception": false,
     "start_time": "2025-03-05T10:26:07.206235",
     "status": "completed"
    },
    "tags": []
   },
   "source": [
    "In order to make a submission, we need to:\n",
    "- disable internet for this notebook (Settings --> Turn off internet)\n",
    "- make sure the notebook runs without errors and a submission file gets created\n",
    "- submit to competition (panel on the right)\n",
    "- wait for the notebook to finish (this may take a while, remember there's a 90-min time limit)\n",
    "\n",
    "If all goes well, we should see our submission scores on the leaderboard."
   ]
  }
 ],
 "metadata": {
  "kaggle": {
   "accelerator": "none",
   "dataSources": [
    {
     "databundleVersionId": 11294689,
     "sourceId": 91844,
     "sourceType": "competition"
    }
   ],
   "dockerImageVersionId": 30918,
   "isGpuEnabled": false,
   "isInternetEnabled": false,
   "language": "python",
   "sourceType": "notebook"
  },
  "kernelspec": {
   "display_name": "Python 3",
   "language": "python",
   "name": "python3"
  },
  "language_info": {
   "codemirror_mode": {
    "name": "ipython",
    "version": 3
   },
   "file_extension": ".py",
   "mimetype": "text/x-python",
   "name": "python",
   "nbconvert_exporter": "python",
   "pygments_lexer": "ipython3",
   "version": "3.10.12"
  },
  "papermill": {
   "default_parameters": {},
   "duration": 4.766078,
   "end_time": "2025-03-05T10:26:07.830657",
   "environment_variables": {},
   "exception": null,
   "input_path": "__notebook__.ipynb",
   "output_path": "__notebook__.ipynb",
   "parameters": {},
   "start_time": "2025-03-05T10:26:03.064579",
   "version": "2.6.0"
  }
 },
 "nbformat": 4,
 "nbformat_minor": 5
}
